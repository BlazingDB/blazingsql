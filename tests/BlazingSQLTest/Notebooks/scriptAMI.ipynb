{
 "cells": [
  {
   "cell_type": "code",
   "execution_count": null,
   "metadata": {},
   "outputs": [],
   "source": [
    "from blazingsql import BlazingContext\n",
    "from blazingsql import S3EncryptionType\n",
    "from dask.distributed import wait\n",
    "import cudf\n",
    "import dask_cudf\n",
    "import dask\n",
    "import cio\n",
    "import dask.dataframe\n",
    "from dask.distributed import Client\n",
    "\n",
    "# NOTE mario use script here\n",
    "ip_port_dask_scheduller = 'SCHEDULER_IP:8786'\n",
    "network_interface = 'ens5'\n",
    "\n",
    "client = Client(ip_port_dask_scheduller)\n",
    "print(\"Dask client ready!\")\n",
    "\n",
    "bc = BlazingContext(dask_client = client, network_interface='ens5')\n",
    "# bc -> dask_client.get_cluster_info() -> [FAIL sheduller -> ping workers]\n",
    "print(\"BlazingContext ready!\")\n",
    "client"
   ]
  },
  {
   "cell_type": "code",
   "execution_count": null,
   "metadata": {},
   "outputs": [],
   "source": [
    "#Validar that dask dir is in nvme\n",
    "dask.config.config"
   ]
  },
  {
   "cell_type": "code",
   "execution_count": null,
   "metadata": {},
   "outputs": [],
   "source": [
    "#Validate blazing context variables for cache and log\n",
    "bc.config_options"
   ]
  },
  {
   "cell_type": "code",
   "execution_count": null,
   "metadata": {},
   "outputs": [],
   "source": []
  }
 ],
 "metadata": {
  "kernelspec": {
   "display_name": "Rapids Stable",
   "language": "python",
   "name": "python3"
  },
  "language_info": {
   "codemirror_mode": {
    "name": "ipython",
    "version": 3
   },
   "file_extension": ".py",
   "mimetype": "text/x-python",
   "name": "python",
   "nbconvert_exporter": "python",
   "pygments_lexer": "ipython3",
   "version": "3.8.5"
  }
 },
 "nbformat": 4,
 "nbformat_minor": 4
}